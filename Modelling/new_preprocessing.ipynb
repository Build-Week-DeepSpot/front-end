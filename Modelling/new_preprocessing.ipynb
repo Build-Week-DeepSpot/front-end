{
 "cells": [
  {
   "cell_type": "markdown",
   "source": [
    "# Data pre-processing notebook\n",
    "### Dropping non-songs, encoding categorical variables"
   ],
   "metadata": {}
  },
  {
   "cell_type": "code",
   "execution_count": 1,
   "source": [
    "import pandas as pd\n",
    "import numpy as np\n",
    "from sklearn.preprocessing import MinMaxScaler\n",
    "import category_encoders as ce\n",
    "\n",
    "df = pd.read_csv(\"../../data/tracks.csv\")\n",
    "# df.head()"
   ],
   "outputs": [],
   "metadata": {}
  },
  {
   "cell_type": "markdown",
   "source": [
    "Data cleanup"
   ],
   "metadata": {}
  },
  {
   "cell_type": "code",
   "execution_count": 4,
   "source": [
    "!pip install category_encoders"
   ],
   "outputs": [
    {
     "output_type": "stream",
     "name": "stdout",
     "text": [
      "Requirement already satisfied: category_encoders in /Users/Carl/miniconda3/envs/U4-S2-NN/lib/python3.7/site-packages (2.2.2)\n",
      "Requirement already satisfied: scipy>=1.0.0 in /Users/Carl/miniconda3/envs/U4-S2-NN/lib/python3.7/site-packages (from category_encoders) (1.7.0)\n",
      "Requirement already satisfied: patsy>=0.5.1 in /Users/Carl/miniconda3/envs/U4-S2-NN/lib/python3.7/site-packages (from category_encoders) (0.5.1)\n",
      "Requirement already satisfied: pandas>=0.21.1 in /Users/Carl/miniconda3/envs/U4-S2-NN/lib/python3.7/site-packages (from category_encoders) (1.2.5)\n",
      "Requirement already satisfied: numpy>=1.14.0 in /Users/Carl/miniconda3/envs/U4-S2-NN/lib/python3.7/site-packages (from category_encoders) (1.20.3)\n",
      "Requirement already satisfied: statsmodels>=0.9.0 in /Users/Carl/miniconda3/envs/U4-S2-NN/lib/python3.7/site-packages (from category_encoders) (0.12.2)\n",
      "Requirement already satisfied: scikit-learn>=0.20.0 in /Users/Carl/miniconda3/envs/U4-S2-NN/lib/python3.7/site-packages (from category_encoders) (0.24.2)\n",
      "Requirement already satisfied: python-dateutil>=2.7.3 in /Users/Carl/miniconda3/envs/U4-S2-NN/lib/python3.7/site-packages (from pandas>=0.21.1->category_encoders) (2.8.2)\n",
      "Requirement already satisfied: pytz>=2017.3 in /Users/Carl/miniconda3/envs/U4-S2-NN/lib/python3.7/site-packages (from pandas>=0.21.1->category_encoders) (2021.1)\n",
      "Requirement already satisfied: six in /Users/Carl/miniconda3/envs/U4-S2-NN/lib/python3.7/site-packages (from patsy>=0.5.1->category_encoders) (1.16.0)\n",
      "Requirement already satisfied: joblib>=0.11 in /Users/Carl/miniconda3/envs/U4-S2-NN/lib/python3.7/site-packages (from scikit-learn>=0.20.0->category_encoders) (1.0.1)\n",
      "Requirement already satisfied: threadpoolctl>=2.0.0 in /Users/Carl/miniconda3/envs/U4-S2-NN/lib/python3.7/site-packages (from scikit-learn>=0.20.0->category_encoders) (2.2.0)\n"
     ]
    }
   ],
   "metadata": {}
  },
  {
   "cell_type": "code",
   "execution_count": 2,
   "source": [
    "df.columns"
   ],
   "outputs": [
    {
     "output_type": "execute_result",
     "data": {
      "text/plain": [
       "Index(['id', 'name', 'popularity', 'duration_ms', 'explicit', 'artists',\n",
       "       'id_artists', 'release_date', 'danceability', 'energy', 'key',\n",
       "       'loudness', 'mode', 'speechiness', 'acousticness', 'instrumentalness',\n",
       "       'liveness', 'valence', 'tempo', 'time_signature'],\n",
       "      dtype='object')"
      ]
     },
     "metadata": {},
     "execution_count": 2
    }
   ],
   "metadata": {}
  },
  {
   "cell_type": "code",
   "execution_count": 3,
   "source": [
    "\n",
    "def new_clean_data(df):\n",
    "   # Drop the id column, name, release_date\n",
    "   x = df.copy()\n",
    "   drop_cols = ['id', 'name', 'release_date', 'id_artists', 'artists']\n",
    "   x = x.drop(labels=drop_cols, axis=1)\n",
    "    \n",
    "   # Drop zero tempo songs\n",
    "   x = x[x['tempo']!=0]\n",
    "\n",
    "   # Create categorical variables: \n",
    "   #     splits each feature into 5 categories (bins)\n",
    "   #     key, explicit not included\n",
    "   to_cat = ['popularity', 'duration_ms', 'danceability', 'energy',\n",
    "      'loudness', 'speechiness', 'acousticness', 'instrumentalness',\n",
    "      'liveness', 'valence', 'tempo', 'time_signature']\n",
    "   for col in to_cat:\n",
    "      x[col] = pd.cut(x[col], bins=5, labels=False)\n",
    " \n",
    "   #  One-hot encoding of all features\n",
    "   cols = ['popularity', 'duration_ms', 'danceability', 'energy',\n",
    "      'loudness', 'speechiness', 'acousticness', 'instrumentalness',\n",
    "      'liveness', 'valence', 'tempo', 'time_signature', 'key', 'explicit']\n",
    "   ohe = ce.one_hot.OneHotEncoder(cols=cols)\n",
    "   x = ohe.fit_transform(x)\n",
    "    \n",
    "   return x\n"
   ],
   "outputs": [],
   "metadata": {}
  },
  {
   "cell_type": "code",
   "execution_count": 4,
   "source": [
    "new_clean_df = new_clean_data(df)\n",
    "new_clean_df.head()"
   ],
   "outputs": [
    {
     "output_type": "stream",
     "name": "stderr",
     "text": [
      "/Users/Carl/miniconda3/envs/U4-S2-NN/lib/python3.7/site-packages/category_encoders/utils.py:21: FutureWarning: is_categorical is deprecated and will be removed in a future version.  Use is_categorical_dtype instead\n",
      "  elif pd.api.types.is_categorical(cols):\n"
     ]
    },
    {
     "output_type": "execute_result",
     "data": {
      "text/plain": [
       "   popularity_1  popularity_2  popularity_3  popularity_4  popularity_5  \\\n",
       "0             1             0             0             0             0   \n",
       "1             1             0             0             0             0   \n",
       "2             1             0             0             0             0   \n",
       "3             1             0             0             0             0   \n",
       "4             1             0             0             0             0   \n",
       "\n",
       "   duration_ms_1  duration_ms_2  duration_ms_3  duration_ms_4  duration_ms_5  \\\n",
       "0              1              0              0              0              0   \n",
       "1              1              0              0              0              0   \n",
       "2              1              0              0              0              0   \n",
       "3              1              0              0              0              0   \n",
       "4              1              0              0              0              0   \n",
       "\n",
       "   ...  valence_5  tempo_1  tempo_2  tempo_3  tempo_4  tempo_5  \\\n",
       "0  ...          0        1        0        0        0        0   \n",
       "1  ...          0        1        0        0        0        0   \n",
       "2  ...          0        0        1        0        0        0   \n",
       "3  ...          0        0        0        1        0        0   \n",
       "4  ...          0        1        0        0        0        0   \n",
       "\n",
       "   time_signature_1  time_signature_2  time_signature_3  time_signature_4  \n",
       "0                 1                 0                 0                 0  \n",
       "1                 0                 1                 0                 0  \n",
       "2                 0                 0                 1                 0  \n",
       "3                 1                 0                 0                 0  \n",
       "4                 0                 0                 0                 1  \n",
       "\n",
       "[5 rows x 74 columns]"
      ],
      "text/html": [
       "<div>\n",
       "<style scoped>\n",
       "    .dataframe tbody tr th:only-of-type {\n",
       "        vertical-align: middle;\n",
       "    }\n",
       "\n",
       "    .dataframe tbody tr th {\n",
       "        vertical-align: top;\n",
       "    }\n",
       "\n",
       "    .dataframe thead th {\n",
       "        text-align: right;\n",
       "    }\n",
       "</style>\n",
       "<table border=\"1\" class=\"dataframe\">\n",
       "  <thead>\n",
       "    <tr style=\"text-align: right;\">\n",
       "      <th></th>\n",
       "      <th>popularity_1</th>\n",
       "      <th>popularity_2</th>\n",
       "      <th>popularity_3</th>\n",
       "      <th>popularity_4</th>\n",
       "      <th>popularity_5</th>\n",
       "      <th>duration_ms_1</th>\n",
       "      <th>duration_ms_2</th>\n",
       "      <th>duration_ms_3</th>\n",
       "      <th>duration_ms_4</th>\n",
       "      <th>duration_ms_5</th>\n",
       "      <th>...</th>\n",
       "      <th>valence_5</th>\n",
       "      <th>tempo_1</th>\n",
       "      <th>tempo_2</th>\n",
       "      <th>tempo_3</th>\n",
       "      <th>tempo_4</th>\n",
       "      <th>tempo_5</th>\n",
       "      <th>time_signature_1</th>\n",
       "      <th>time_signature_2</th>\n",
       "      <th>time_signature_3</th>\n",
       "      <th>time_signature_4</th>\n",
       "    </tr>\n",
       "  </thead>\n",
       "  <tbody>\n",
       "    <tr>\n",
       "      <th>0</th>\n",
       "      <td>1</td>\n",
       "      <td>0</td>\n",
       "      <td>0</td>\n",
       "      <td>0</td>\n",
       "      <td>0</td>\n",
       "      <td>1</td>\n",
       "      <td>0</td>\n",
       "      <td>0</td>\n",
       "      <td>0</td>\n",
       "      <td>0</td>\n",
       "      <td>...</td>\n",
       "      <td>0</td>\n",
       "      <td>1</td>\n",
       "      <td>0</td>\n",
       "      <td>0</td>\n",
       "      <td>0</td>\n",
       "      <td>0</td>\n",
       "      <td>1</td>\n",
       "      <td>0</td>\n",
       "      <td>0</td>\n",
       "      <td>0</td>\n",
       "    </tr>\n",
       "    <tr>\n",
       "      <th>1</th>\n",
       "      <td>1</td>\n",
       "      <td>0</td>\n",
       "      <td>0</td>\n",
       "      <td>0</td>\n",
       "      <td>0</td>\n",
       "      <td>1</td>\n",
       "      <td>0</td>\n",
       "      <td>0</td>\n",
       "      <td>0</td>\n",
       "      <td>0</td>\n",
       "      <td>...</td>\n",
       "      <td>0</td>\n",
       "      <td>1</td>\n",
       "      <td>0</td>\n",
       "      <td>0</td>\n",
       "      <td>0</td>\n",
       "      <td>0</td>\n",
       "      <td>0</td>\n",
       "      <td>1</td>\n",
       "      <td>0</td>\n",
       "      <td>0</td>\n",
       "    </tr>\n",
       "    <tr>\n",
       "      <th>2</th>\n",
       "      <td>1</td>\n",
       "      <td>0</td>\n",
       "      <td>0</td>\n",
       "      <td>0</td>\n",
       "      <td>0</td>\n",
       "      <td>1</td>\n",
       "      <td>0</td>\n",
       "      <td>0</td>\n",
       "      <td>0</td>\n",
       "      <td>0</td>\n",
       "      <td>...</td>\n",
       "      <td>0</td>\n",
       "      <td>0</td>\n",
       "      <td>1</td>\n",
       "      <td>0</td>\n",
       "      <td>0</td>\n",
       "      <td>0</td>\n",
       "      <td>0</td>\n",
       "      <td>0</td>\n",
       "      <td>1</td>\n",
       "      <td>0</td>\n",
       "    </tr>\n",
       "    <tr>\n",
       "      <th>3</th>\n",
       "      <td>1</td>\n",
       "      <td>0</td>\n",
       "      <td>0</td>\n",
       "      <td>0</td>\n",
       "      <td>0</td>\n",
       "      <td>1</td>\n",
       "      <td>0</td>\n",
       "      <td>0</td>\n",
       "      <td>0</td>\n",
       "      <td>0</td>\n",
       "      <td>...</td>\n",
       "      <td>0</td>\n",
       "      <td>0</td>\n",
       "      <td>0</td>\n",
       "      <td>1</td>\n",
       "      <td>0</td>\n",
       "      <td>0</td>\n",
       "      <td>1</td>\n",
       "      <td>0</td>\n",
       "      <td>0</td>\n",
       "      <td>0</td>\n",
       "    </tr>\n",
       "    <tr>\n",
       "      <th>4</th>\n",
       "      <td>1</td>\n",
       "      <td>0</td>\n",
       "      <td>0</td>\n",
       "      <td>0</td>\n",
       "      <td>0</td>\n",
       "      <td>1</td>\n",
       "      <td>0</td>\n",
       "      <td>0</td>\n",
       "      <td>0</td>\n",
       "      <td>0</td>\n",
       "      <td>...</td>\n",
       "      <td>0</td>\n",
       "      <td>1</td>\n",
       "      <td>0</td>\n",
       "      <td>0</td>\n",
       "      <td>0</td>\n",
       "      <td>0</td>\n",
       "      <td>0</td>\n",
       "      <td>0</td>\n",
       "      <td>0</td>\n",
       "      <td>1</td>\n",
       "    </tr>\n",
       "  </tbody>\n",
       "</table>\n",
       "<p>5 rows × 74 columns</p>\n",
       "</div>"
      ]
     },
     "metadata": {},
     "execution_count": 4
    }
   ],
   "metadata": {}
  },
  {
   "cell_type": "code",
   "execution_count": 9,
   "source": [
    "new_clean_df.describe()\n",
    "new_clean_df.columns"
   ],
   "outputs": [
    {
     "output_type": "execute_result",
     "data": {
      "text/plain": [
       "Index(['popularity_1', 'popularity_2', 'popularity_3', 'popularity_4',\n",
       "       'popularity_5', 'duration_ms_1', 'duration_ms_2', 'duration_ms_3',\n",
       "       'duration_ms_4', 'duration_ms_5', 'explicit_1', 'explicit_2',\n",
       "       'danceability_1', 'danceability_2', 'danceability_3', 'danceability_4',\n",
       "       'danceability_5', 'energy_1', 'energy_2', 'energy_3', 'energy_4',\n",
       "       'energy_5', 'key_1', 'key_2', 'key_3', 'key_4', 'key_5', 'key_6',\n",
       "       'key_7', 'key_8', 'key_9', 'key_10', 'key_11', 'key_12', 'loudness_1',\n",
       "       'loudness_2', 'loudness_3', 'loudness_4', 'loudness_5', 'mode',\n",
       "       'speechiness_1', 'speechiness_2', 'speechiness_3', 'speechiness_4',\n",
       "       'speechiness_5', 'acousticness_1', 'acousticness_2', 'acousticness_3',\n",
       "       'acousticness_4', 'acousticness_5', 'instrumentalness_1',\n",
       "       'instrumentalness_2', 'instrumentalness_3', 'instrumentalness_4',\n",
       "       'instrumentalness_5', 'liveness_1', 'liveness_2', 'liveness_3',\n",
       "       'liveness_4', 'liveness_5', 'valence_1', 'valence_2', 'valence_3',\n",
       "       'valence_4', 'valence_5', 'tempo_1', 'tempo_2', 'tempo_3', 'tempo_4',\n",
       "       'tempo_5', 'time_signature_1', 'time_signature_2', 'time_signature_3',\n",
       "       'time_signature_4'],\n",
       "      dtype='object')"
      ]
     },
     "metadata": {},
     "execution_count": 9
    }
   ],
   "metadata": {}
  },
  {
   "cell_type": "code",
   "execution_count": 39,
   "source": [
    "new_clean_df.to_csv('../../data/new_songs_cleaned.csv')"
   ],
   "outputs": [],
   "metadata": {}
  }
 ],
 "metadata": {
  "kernelspec": {
   "name": "python3",
   "display_name": "Python 3.7.0 64-bit ('U4-S2-NN': conda)"
  },
  "language_info": {
   "codemirror_mode": {
    "name": "ipython",
    "version": 3
   },
   "file_extension": ".py",
   "mimetype": "text/x-python",
   "name": "python",
   "nbconvert_exporter": "python",
   "pygments_lexer": "ipython3",
   "version": "3.7.0"
  },
  "interpreter": {
   "hash": "02e1903c3f39b96bcefa6d49f9b3f85f880bb59f74a50c875b853cacbce3839e"
  }
 },
 "nbformat": 4,
 "nbformat_minor": 4
}