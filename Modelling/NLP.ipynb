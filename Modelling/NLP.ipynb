{
  "nbformat": 4,
  "nbformat_minor": 2,
  "metadata": {
    "colab": {
      "name": "413_follow_along.ipynb",
      "provenance": [],
      "collapsed_sections": []
    },
    "kernelspec": {
      "name": "python3",
      "display_name": "Python 3.7.0 64-bit ('U4-S1-NLP': conda)"
    },
    "language_info": {
      "name": "python",
      "version": "3.7.0",
      "mimetype": "text/x-python",
      "codemirror_mode": {
        "name": "ipython",
        "version": 3
      },
      "pygments_lexer": "ipython3",
      "nbconvert_exporter": "python",
      "file_extension": ".py"
    },
    "interpreter": {
      "hash": "fd7807c7320b59b6735653493705a1acda3d603162592023dbd45cac0de5181a"
    }
  },
  "cells": [
    {
      "cell_type": "code",
      "execution_count": 1,
      "source": [
        "import pandas as pd\n",
        "import re\n",
        "from sklearn.feature_extraction.text import CountVectorizer, TfidfVectorizer\n",
        "from collections import Counter\n",
        "from sklearn.neighbors import NearestNeighbors\n",
        "from joblib import dump, load\n",
        "\n",
        "# import spacy\n",
        "# nlp = spacy.load(\"en_core_web_md\", disable=['parser', 'tagger', 'ner'])"
      ],
      "outputs": [],
      "metadata": {}
    },
    {
      "cell_type": "code",
      "execution_count": 3,
      "source": [
        "# Load data\n",
        "file = '../../data/spotify_songs.csv'\n",
        "df = pd.read_csv(file)\n",
        "df.shape"
      ],
      "outputs": [
        {
          "output_type": "execute_result",
          "data": {
            "text/plain": [
              "(18454, 25)"
            ]
          },
          "metadata": {},
          "execution_count": 3
        }
      ],
      "metadata": {}
    },
    {
      "cell_type": "code",
      "execution_count": 4,
      "source": [
        "# Get only English songs\n",
        "songs = df[df.language == 'en']\n",
        "songs.shape"
      ],
      "outputs": [
        {
          "output_type": "execute_result",
          "data": {
            "text/plain": [
              "(15405, 25)"
            ]
          },
          "metadata": {},
          "execution_count": 4
        }
      ],
      "metadata": {}
    },
    {
      "cell_type": "code",
      "execution_count": 5,
      "source": [
        "# Check for null values\n",
        "songs.isnull().sum().sum() == 0"
      ],
      "outputs": [
        {
          "output_type": "execute_result",
          "data": {
            "text/plain": [
              "True"
            ]
          },
          "metadata": {},
          "execution_count": 5
        }
      ],
      "metadata": {}
    },
    {
      "cell_type": "code",
      "execution_count": 10,
      "source": [
        "def clean_data(data):\n",
        "    # Remove non-alphanumeric characters\n",
        "    data = data.apply(lambda x: re.sub('[^a-zA-Z]', ' ', x))\n",
        "\n",
        "    # Remove extra whitespace and lowercase text \n",
        "    data = data.apply(lambda x: ' '.join(x.lower().split()))\n",
        "\n",
        "    # Remove short words\n",
        "    data = data.apply(lambda x: ' '.join(x for x in x.split() if len(x) > 2))\n",
        "    \n",
        "    # Stop words will be removed in vectorizer\n",
        "    return data"
      ],
      "outputs": [],
      "metadata": {}
    },
    {
      "cell_type": "code",
      "execution_count": 14,
      "source": [
        "# Add cleaned lyrics to df\n",
        "songs['clean_lyrics'] = clean_data(songs['lyrics'])\n",
        "songs.clean_lyrics.head()"
      ],
      "outputs": [
        {
          "output_type": "stream",
          "name": "stderr",
          "text": [
            "/Users/Carl/miniconda3/envs/U4-S1-NLP/lib/python3.7/site-packages/ipykernel_launcher.py:2: SettingWithCopyWarning: \n",
            "A value is trying to be set on a copy of a slice from a DataFrame.\n",
            "Try using .loc[row_indexer,col_indexer] = value instead\n",
            "\n",
            "See the caveats in the documentation: https://pandas.pydata.org/pandas-docs/stable/user_guide/indexing.html#returning-a-view-versus-a-copy\n",
            "  \n"
          ]
        },
        {
          "output_type": "execute_result",
          "data": {
            "text/plain": [
              "1    the trees are singing the wind the sky blue on...\n",
              "2    yeah spyderman and freeze full effect huh you ...\n",
              "3    really can stay baby cold outside got away bab...\n",
              "4    get out business you don keep from turning wit...\n",
              "5    hold your breath don look down keep trying dar...\n",
              "Name: clean_lyrics, dtype: object"
            ]
          },
          "metadata": {},
          "execution_count": 14
        }
      ],
      "metadata": {}
    },
    {
      "cell_type": "code",
      "execution_count": 15,
      "source": [
        "# Tokenizer function\n",
        "def tokenizer(song):\n",
        "    # Create a list of tokens\n",
        "    tokens = []\n",
        "    # Split song into words\n",
        "    words = song.split()\n",
        "    # Iterate through the words in the song\n",
        "    for word in words:\n",
        "        tokens.append(word)\n",
        "          \n",
        "    return tokens"
      ],
      "outputs": [],
      "metadata": {}
    },
    {
      "cell_type": "code",
      "execution_count": 16,
      "source": [
        "# Tokenize clean lyrics\n",
        "songs['tokens'] = songs.clean_lyrics.apply(tokenizer)\n",
        "songs['tokens'].head()"
      ],
      "outputs": [
        {
          "output_type": "stream",
          "name": "stderr",
          "text": [
            "/Users/Carl/miniconda3/envs/U4-S1-NLP/lib/python3.7/site-packages/ipykernel_launcher.py:2: SettingWithCopyWarning: \n",
            "A value is trying to be set on a copy of a slice from a DataFrame.\n",
            "Try using .loc[row_indexer,col_indexer] = value instead\n",
            "\n",
            "See the caveats in the documentation: https://pandas.pydata.org/pandas-docs/stable/user_guide/indexing.html#returning-a-view-versus-a-copy\n",
            "  \n"
          ]
        },
        {
          "output_type": "execute_result",
          "data": {
            "text/plain": [
              "1    [the, trees, are, singing, the, wind, the, sky...\n",
              "2    [yeah, spyderman, and, freeze, full, effect, h...\n",
              "3    [really, can, stay, baby, cold, outside, got, ...\n",
              "4    [get, out, business, you, don, keep, from, tur...\n",
              "5    [hold, your, breath, don, look, down, keep, tr...\n",
              "Name: tokens, dtype: object"
            ]
          },
          "metadata": {},
          "execution_count": 16
        }
      ],
      "metadata": {}
    },
    {
      "cell_type": "code",
      "execution_count": 17,
      "source": [
        "def count(tokens):\n",
        "    \"\"\"\n",
        "    Calculates some basic statistics about tokens in our corpus (i.e. corpus means collections text data)\n",
        "    \"\"\"\n",
        "    # stores the count of each token\n",
        "    word_counts = Counter()\n",
        "    \n",
        "    # stores the number of docs that each token appears in \n",
        "    appears_in = Counter()\n",
        "\n",
        "    total_docs = len(tokens)\n",
        "\n",
        "    for token in tokens:\n",
        "        # stores count of every appearance of a token \n",
        "        word_counts.update(token)\n",
        "        # use set() in order to not count duplicates, thereby count the num of docs that each token appears in\n",
        "        appears_in.update(set(token))\n",
        "\n",
        "    # build word count dataframe\n",
        "    temp = zip(word_counts.keys(), word_counts.values())\n",
        "    wc = pd.DataFrame(temp, columns = ['word', 'count'])\n",
        "\n",
        "    # rank the the word counts\n",
        "    wc['rank'] = wc['count'].rank(method='first', ascending=False)\n",
        "    total = wc['count'].sum()\n",
        "\n",
        "    # calculate the percent total of each token\n",
        "    wc['pct_total'] = wc['count'].apply(lambda token_count: token_count / total)\n",
        "\n",
        "    # calculate the cumulative percent total of word counts \n",
        "    wc = wc.sort_values(by='rank')\n",
        "    wc['cul_pct_total'] = wc['pct_total'].cumsum()\n",
        "\n",
        "    # create dataframe for document stats\n",
        "    t2 = zip(appears_in.keys(), appears_in.values())\n",
        "    ac = pd.DataFrame(t2, columns=['word', 'appears_in'])\n",
        "    \n",
        "    # merge word count stats with doc stats\n",
        "    wc = ac.merge(wc, on='word')\n",
        "\n",
        "    wc['appears_in_pct'] = wc['appears_in'].apply(lambda x: x / total_docs)\n",
        "\n",
        "    return wc.sort_values(by='rank')"
      ],
      "outputs": [],
      "metadata": {}
    },
    {
      "cell_type": "code",
      "execution_count": 18,
      "source": [
        "wc  = count(songs['tokens'])\n",
        "wc.head()"
      ],
      "outputs": [
        {
          "output_type": "execute_result",
          "data": {
            "text/plain": [
              "    word  appears_in   count  rank  pct_total  cul_pct_total  appears_in_pct\n",
              "50   you       14166  278601   1.0   0.057869       0.057869        0.919572\n",
              "4    the       14535  222028   2.0   0.046118       0.103988        0.943525\n",
              "24   and       13634  119728   3.0   0.024869       0.128857        0.885037\n",
              "35  that       11362   73654   4.0   0.015299       0.144156        0.737553\n",
              "6   your       10233   58122   5.0   0.012073       0.156229        0.664265"
            ],
            "text/html": [
              "<div>\n",
              "<style scoped>\n",
              "    .dataframe tbody tr th:only-of-type {\n",
              "        vertical-align: middle;\n",
              "    }\n",
              "\n",
              "    .dataframe tbody tr th {\n",
              "        vertical-align: top;\n",
              "    }\n",
              "\n",
              "    .dataframe thead th {\n",
              "        text-align: right;\n",
              "    }\n",
              "</style>\n",
              "<table border=\"1\" class=\"dataframe\">\n",
              "  <thead>\n",
              "    <tr style=\"text-align: right;\">\n",
              "      <th></th>\n",
              "      <th>word</th>\n",
              "      <th>appears_in</th>\n",
              "      <th>count</th>\n",
              "      <th>rank</th>\n",
              "      <th>pct_total</th>\n",
              "      <th>cul_pct_total</th>\n",
              "      <th>appears_in_pct</th>\n",
              "    </tr>\n",
              "  </thead>\n",
              "  <tbody>\n",
              "    <tr>\n",
              "      <th>50</th>\n",
              "      <td>you</td>\n",
              "      <td>14166</td>\n",
              "      <td>278601</td>\n",
              "      <td>1.0</td>\n",
              "      <td>0.057869</td>\n",
              "      <td>0.057869</td>\n",
              "      <td>0.919572</td>\n",
              "    </tr>\n",
              "    <tr>\n",
              "      <th>4</th>\n",
              "      <td>the</td>\n",
              "      <td>14535</td>\n",
              "      <td>222028</td>\n",
              "      <td>2.0</td>\n",
              "      <td>0.046118</td>\n",
              "      <td>0.103988</td>\n",
              "      <td>0.943525</td>\n",
              "    </tr>\n",
              "    <tr>\n",
              "      <th>24</th>\n",
              "      <td>and</td>\n",
              "      <td>13634</td>\n",
              "      <td>119728</td>\n",
              "      <td>3.0</td>\n",
              "      <td>0.024869</td>\n",
              "      <td>0.128857</td>\n",
              "      <td>0.885037</td>\n",
              "    </tr>\n",
              "    <tr>\n",
              "      <th>35</th>\n",
              "      <td>that</td>\n",
              "      <td>11362</td>\n",
              "      <td>73654</td>\n",
              "      <td>4.0</td>\n",
              "      <td>0.015299</td>\n",
              "      <td>0.144156</td>\n",
              "      <td>0.737553</td>\n",
              "    </tr>\n",
              "    <tr>\n",
              "      <th>6</th>\n",
              "      <td>your</td>\n",
              "      <td>10233</td>\n",
              "      <td>58122</td>\n",
              "      <td>5.0</td>\n",
              "      <td>0.012073</td>\n",
              "      <td>0.156229</td>\n",
              "      <td>0.664265</td>\n",
              "    </tr>\n",
              "  </tbody>\n",
              "</table>\n",
              "</div>"
            ]
          },
          "metadata": {},
          "execution_count": 18
        }
      ],
      "metadata": {}
    },
    {
      "cell_type": "code",
      "execution_count": 19,
      "source": [
        "# TFIDF vectorizer\n",
        "tfidf = TfidfVectorizer(\n",
        "    stop_words='english', ngram_range=(1,2),\n",
        "    min_df=5, max_df=0.2,\n",
        "    max_features=1000,\n",
        "    tokenizer=tokenizer)\n",
        "\n",
        "# Create a vocabulary and get word counts per document\n",
        "dtm = tfidf.fit_transform(songs.clean_lyrics)\n",
        "dtm = pd.DataFrame(data=dtm.toarray(), columns=tfidf.get_feature_names())"
      ],
      "outputs": [],
      "metadata": {}
    },
    {
      "cell_type": "code",
      "execution_count": 21,
      "source": [
        "dtm.head()"
      ],
      "outputs": [
        {
          "output_type": "execute_result",
          "data": {
            "text/plain": [
              "   act  act like  actin  afraid  ahead  ahh  ain gonna  ain got  air  \\\n",
              "0  0.0       0.0    0.0     0.0    0.0  0.0        0.0      0.0  0.0   \n",
              "1  0.0       0.0    0.0     0.0    0.0  0.0        0.0      0.0  0.0   \n",
              "2  0.0       0.0    0.0     0.0    0.0  0.0        0.0      0.0  0.0   \n",
              "3  0.0       0.0    0.0     0.0    0.0  0.0        0.0      0.0  0.0   \n",
              "4  0.0       0.0    0.0     0.0    0.0  0.0        0.0      0.0  0.0   \n",
              "\n",
              "      alive  ...  yeah know  yeah love  yeah ooh  yeah yeah  year  years  yes  \\\n",
              "0  0.399813  ...   0.000000        0.0       0.0   0.000000   0.0    0.0  0.0   \n",
              "1  0.000000  ...   0.000000        0.0       0.0   0.000000   0.0    0.0  0.0   \n",
              "2  0.000000  ...   0.000000        0.0       0.0   0.000000   0.0    0.0  0.0   \n",
              "3  0.000000  ...   0.000000        0.0       0.0   0.000000   0.0    0.0  0.0   \n",
              "4  0.000000  ...   0.104242        0.0       0.0   0.223496   0.0    0.0  0.0   \n",
              "\n",
              "   yesterday  young  yuh  \n",
              "0        0.0    0.0  0.0  \n",
              "1        0.0    0.0  0.0  \n",
              "2        0.0    0.0  0.0  \n",
              "3        0.0    0.0  0.0  \n",
              "4        0.0    0.0  0.0  \n",
              "\n",
              "[5 rows x 1000 columns]"
            ],
            "text/html": [
              "<div>\n",
              "<style scoped>\n",
              "    .dataframe tbody tr th:only-of-type {\n",
              "        vertical-align: middle;\n",
              "    }\n",
              "\n",
              "    .dataframe tbody tr th {\n",
              "        vertical-align: top;\n",
              "    }\n",
              "\n",
              "    .dataframe thead th {\n",
              "        text-align: right;\n",
              "    }\n",
              "</style>\n",
              "<table border=\"1\" class=\"dataframe\">\n",
              "  <thead>\n",
              "    <tr style=\"text-align: right;\">\n",
              "      <th></th>\n",
              "      <th>act</th>\n",
              "      <th>act like</th>\n",
              "      <th>actin</th>\n",
              "      <th>afraid</th>\n",
              "      <th>ahead</th>\n",
              "      <th>ahh</th>\n",
              "      <th>ain gonna</th>\n",
              "      <th>ain got</th>\n",
              "      <th>air</th>\n",
              "      <th>alive</th>\n",
              "      <th>...</th>\n",
              "      <th>yeah know</th>\n",
              "      <th>yeah love</th>\n",
              "      <th>yeah ooh</th>\n",
              "      <th>yeah yeah</th>\n",
              "      <th>year</th>\n",
              "      <th>years</th>\n",
              "      <th>yes</th>\n",
              "      <th>yesterday</th>\n",
              "      <th>young</th>\n",
              "      <th>yuh</th>\n",
              "    </tr>\n",
              "  </thead>\n",
              "  <tbody>\n",
              "    <tr>\n",
              "      <th>0</th>\n",
              "      <td>0.0</td>\n",
              "      <td>0.0</td>\n",
              "      <td>0.0</td>\n",
              "      <td>0.0</td>\n",
              "      <td>0.0</td>\n",
              "      <td>0.0</td>\n",
              "      <td>0.0</td>\n",
              "      <td>0.0</td>\n",
              "      <td>0.0</td>\n",
              "      <td>0.399813</td>\n",
              "      <td>...</td>\n",
              "      <td>0.000000</td>\n",
              "      <td>0.0</td>\n",
              "      <td>0.0</td>\n",
              "      <td>0.000000</td>\n",
              "      <td>0.0</td>\n",
              "      <td>0.0</td>\n",
              "      <td>0.0</td>\n",
              "      <td>0.0</td>\n",
              "      <td>0.0</td>\n",
              "      <td>0.0</td>\n",
              "    </tr>\n",
              "    <tr>\n",
              "      <th>1</th>\n",
              "      <td>0.0</td>\n",
              "      <td>0.0</td>\n",
              "      <td>0.0</td>\n",
              "      <td>0.0</td>\n",
              "      <td>0.0</td>\n",
              "      <td>0.0</td>\n",
              "      <td>0.0</td>\n",
              "      <td>0.0</td>\n",
              "      <td>0.0</td>\n",
              "      <td>0.000000</td>\n",
              "      <td>...</td>\n",
              "      <td>0.000000</td>\n",
              "      <td>0.0</td>\n",
              "      <td>0.0</td>\n",
              "      <td>0.000000</td>\n",
              "      <td>0.0</td>\n",
              "      <td>0.0</td>\n",
              "      <td>0.0</td>\n",
              "      <td>0.0</td>\n",
              "      <td>0.0</td>\n",
              "      <td>0.0</td>\n",
              "    </tr>\n",
              "    <tr>\n",
              "      <th>2</th>\n",
              "      <td>0.0</td>\n",
              "      <td>0.0</td>\n",
              "      <td>0.0</td>\n",
              "      <td>0.0</td>\n",
              "      <td>0.0</td>\n",
              "      <td>0.0</td>\n",
              "      <td>0.0</td>\n",
              "      <td>0.0</td>\n",
              "      <td>0.0</td>\n",
              "      <td>0.000000</td>\n",
              "      <td>...</td>\n",
              "      <td>0.000000</td>\n",
              "      <td>0.0</td>\n",
              "      <td>0.0</td>\n",
              "      <td>0.000000</td>\n",
              "      <td>0.0</td>\n",
              "      <td>0.0</td>\n",
              "      <td>0.0</td>\n",
              "      <td>0.0</td>\n",
              "      <td>0.0</td>\n",
              "      <td>0.0</td>\n",
              "    </tr>\n",
              "    <tr>\n",
              "      <th>3</th>\n",
              "      <td>0.0</td>\n",
              "      <td>0.0</td>\n",
              "      <td>0.0</td>\n",
              "      <td>0.0</td>\n",
              "      <td>0.0</td>\n",
              "      <td>0.0</td>\n",
              "      <td>0.0</td>\n",
              "      <td>0.0</td>\n",
              "      <td>0.0</td>\n",
              "      <td>0.000000</td>\n",
              "      <td>...</td>\n",
              "      <td>0.000000</td>\n",
              "      <td>0.0</td>\n",
              "      <td>0.0</td>\n",
              "      <td>0.000000</td>\n",
              "      <td>0.0</td>\n",
              "      <td>0.0</td>\n",
              "      <td>0.0</td>\n",
              "      <td>0.0</td>\n",
              "      <td>0.0</td>\n",
              "      <td>0.0</td>\n",
              "    </tr>\n",
              "    <tr>\n",
              "      <th>4</th>\n",
              "      <td>0.0</td>\n",
              "      <td>0.0</td>\n",
              "      <td>0.0</td>\n",
              "      <td>0.0</td>\n",
              "      <td>0.0</td>\n",
              "      <td>0.0</td>\n",
              "      <td>0.0</td>\n",
              "      <td>0.0</td>\n",
              "      <td>0.0</td>\n",
              "      <td>0.000000</td>\n",
              "      <td>...</td>\n",
              "      <td>0.104242</td>\n",
              "      <td>0.0</td>\n",
              "      <td>0.0</td>\n",
              "      <td>0.223496</td>\n",
              "      <td>0.0</td>\n",
              "      <td>0.0</td>\n",
              "      <td>0.0</td>\n",
              "      <td>0.0</td>\n",
              "      <td>0.0</td>\n",
              "      <td>0.0</td>\n",
              "    </tr>\n",
              "  </tbody>\n",
              "</table>\n",
              "<p>5 rows × 1000 columns</p>\n",
              "</div>"
            ]
          },
          "metadata": {},
          "execution_count": 21
        }
      ],
      "metadata": {}
    },
    {
      "cell_type": "code",
      "execution_count": 20,
      "source": [
        "print(len(songs))\n",
        "songs['tokens'].apply(len).mean()\n"
      ],
      "outputs": [
        {
          "output_type": "stream",
          "name": "stdout",
          "text": [
            "15405\n"
          ]
        },
        {
          "output_type": "execute_result",
          "data": {
            "text/plain": [
              "312.51567672833494"
            ]
          },
          "metadata": {},
          "execution_count": 20
        }
      ],
      "metadata": {}
    },
    {
      "cell_type": "code",
      "execution_count": 25,
      "source": [
        "# Nearest neighbors model \n",
        "nn = NearestNeighbors(n_neighbors=6, algorithm=\"kd_tree\")\n",
        "\n",
        "# Fit on DTM\n",
        "nn.fit(dtm)"
      ],
      "outputs": [
        {
          "output_type": "execute_result",
          "data": {
            "text/plain": [
              "NearestNeighbors(algorithm='kd_tree', leaf_size=30, metric='minkowski',\n",
              "                 metric_params=None, n_jobs=None, n_neighbors=6, p=2,\n",
              "                 radius=1.0)"
            ]
          },
          "metadata": {},
          "execution_count": 25
        }
      ],
      "metadata": {}
    },
    {
      "cell_type": "code",
      "execution_count": 26,
      "source": [
        "# sample a doc from dtm to use as our query point \n",
        "n = 795\n",
        "doc_vector = [dtm.iloc[n]]\n",
        "\n",
        "# Query Using kneighbors \n",
        "neigh_dist, neigh_ind = nn.kneighbors(doc_vector)"
      ],
      "outputs": [],
      "metadata": {}
    },
    {
      "cell_type": "code",
      "execution_count": 28,
      "source": [
        "# Display test song and nearest neighbors\n",
        "print('Test song:', songs.iloc[n]['track_name'])\n",
        "print(f'https://open.spotify.com/track/{songs.iloc[n].track_id}')\n",
        "print('\\nPredictions:')\n",
        "\n",
        "for i in range(6):\n",
        "    ind = neigh_ind[0][i]\n",
        "    if ind != n:\n",
        "        track_name = songs.iloc[ind]['track_name']\n",
        "        artist = songs.iloc[ind]['track_artist']\n",
        "        lyrics = songs.iloc[ind]['lyrics']\n",
        "        print(f'{track_name} by {artist}')\n",
        "        print(f'https://open.spotify.com/track/{songs.iloc[ind].track_id}')\n",
        "    print(lyrics)\n",
        "    # print('\\n')"
      ],
      "outputs": [
        {
          "output_type": "stream",
          "name": "stdout",
          "text": [
            "Test song: We Start Fires\n",
            "https://open.spotify.com/track/0hsMhZA3gguNuHOcDsGmOf\n",
            "\n",
            "Predictions:\n",
            "High, high hopes Had to have high, high hopes for a living Shooting for the stars when I couldn't make a killing Didn't have a dime but I always had a vision Always had high, high hopes (High, high hopes) Had to have high, high hopes for a living Didn't know how but I always had a feeling I was gonna be that one in a million Always had high, high hopes Mama said, fulfill the prophecy Be something greater, go make a legacy Manifest destiny, back in the days We wanted everything, wanted everything Mama said, burn your biographies Rewrite your history, light up your wildest dreams Museum victories, every day We wanted everything, wanted everything Mama said don't give up, it's a little complicated All tied up, no more love and I'd hate to see you waiting Had to have high, high hopes for a living Shooting for the stars when I couldn't make a killing Didn't have a dime but I always had a vision Always had high, high hopes Had to have high, high hopes for a living Didn't know how but I always had a feeling I was gonna be that one in a million Always had high, high hopes (High, high hopes) Mama said, it's uphill for oddities The stranger crusaders, ain't ever wannabes The weird and the novelties don't ever change We wanted everything, wanted everything (High, high hopes) Stay up on that rise Stay up on that rise and never come down, oh Stay up on that rise Stay up on that rise and never come down Mama said don't give up, it's a little complicated All tied up, no more love and I'd hate to see you waiting They say it's all been done but they haven't seen the best of me-eh-eh-eh So I got one more run and it's gonna be a sight to see-eh-eh-eh Had to have high, high hopes for a living Shooting for the stars when I couldn't make a killing Didn't have a dime but I always had a vision Always had high, high hopes (High, high hopes) Had to have high, high hopes for a living Didn't know how but I always had a feeling I was gonna be that one in a million Always had high, high hopes (High, high hopes) Had to have high, high hopes for a living Shooting for the stars when I couldn't make a killing Didn't have a dime but I always had a vision Always had high, high hopes Had to have high, high hopes for a living Didn't know how but I always had a feeling I was gonna be that one in a million Always had high, high hopes (High, high hopes) High, high hopes Had to have high, high hopes for a living Shooting for the stars when I couldn't make a killing Didn't have a dime but I always had a vision Always had high, high hopes (High, high hopes) Had to have high, high hopes for a living Didn't know how but I always had a feeling I was gonna be that one in a million Always had high, high hopes Mama said, fulfill the prophecy Be something greater, go make a legacy Manifest destiny, back in the days We wanted everything, wanted everything Mama said, burn your biographies Rewrite your history, light up your wildest dreams Museum victories, every day We wanted everything, wanted everything Mama said don't give up, it's a little complicated All tied up, no more love and I'd hate to see you waiting Had to have high, high hopes for a living Shooting for the stars when I couldn't make a killing Didn't have a dime but I always had a vision Always had high, high hopes Had to have high, high hopes for a living Didn't know how but I always had a feeling I was gonna be that one in a million Always had high, high hopes (High, high hopes) Mama said, it's uphill for oddities The stranger crusaders, ain't ever wannabes The weird and the novelties don't ever change We wanted everything, wanted everything (High, high hopes) Stay up on that rise Stay up on that rise and never come down, oh Stay up on that rise Stay up on that rise and never come down Mama said don't give up, it's a little complicated All tied up, no more love and I'd hate to see you waiting They say it's all been done but they haven't seen the best of me-eh-eh-eh So I got one more run and it's gonna be a sight to see-eh-eh-eh Had to have high, high hopes for a living Shooting for the stars when I couldn't make a killing Didn't have a dime but I always had a vision Always had high, high hopes (High, high hopes) Had to have high, high hopes for a living Didn't know how but I always had a feeling I was gonna be that one in a million Always had high, high hopes (High, high hopes) Had to have high, high hopes for a living Shooting for the stars when I couldn't make a killing Didn't have a dime but I always had a vision Always had high, high hopes Had to have high, high hopes for a living Didn't know how but I always had a feeling I was gonna be that one in a million Always had high, high hopes (High, high hopes) High, high hopes Had to have high, high hopes for a living Shooting for the stars when I couldn't make a killing Didn't have a dime but I always had a vision Always had high, high hopes (High, high hopes) Had to have high, high hopes for a living Didn't know how but I always had a feeling I was gonna be that one in a million Always had high, high hopes Mama said, fulfill the prophecy Be something greater, go make a legacy Manifest destiny, back in the days We wanted everything, wanted everything Mama said, burn your biographies Rewrite your history, light up your wildest dreams Museum victories, every day We wanted everything, wanted everything Mama said don't give up, it's a little complicated All tied up, no more love and I'd hate to see you waiting Had to have high, high hopes for a living Shooting for the stars when I couldn't make a killing Didn't have a dime but I always had a vision Always had high, high hopes Had to have high, high hopes for a living Didn't know how but I always had a feeling I was gonna be that one in a million Always had high, high hopes (High, high hopes) Mama said, it's uphill for oddities The stranger crusaders, ain't ever wannabes The weird and the novelties don't ever change We wanted everything, wanted everything (High, high hopes) Stay up on that rise Stay up on that rise and never come down, oh Stay up on that rise Stay up on that rise and never come down Mama said don't give up, it's a little complicated All tied up, no more love and I'd hate to see you waiting They say it's all been done but they haven't seen the best of me-eh-eh-eh So I got one more run and it's gonna be a sight to see-eh-eh-eh Had to have high, high hopes for a living Shooting for the stars when I couldn't make a killing Didn't have a dime but I always had a vision Always had high, high hopes (High, high hopes) Had to have high, high hopes for a living Didn't know how but I always had a feeling I was gonna be that one in a million Always had high, high hopes (High, high hopes) Had to have high, high hopes for a living Shooting for the stars when I couldn't make a killing Didn't have a dime but I always had a vision Always had high, high hopes Had to have high, high hopes for a living Didn't know how but I always had a feeling I was gonna be that one in a million Always had high, high hopes (High, high hopes)\n",
            "Good Times by Styles P\n",
            "https://open.spotify.com/track/7cFpB4ozcSwXuhqjvNbrbP\n",
            "\"I get high, I get high, I get high, I get high I get high, I get high, I get high, I get high I get high on your memory, high on your memory HIGH on your memory...\"\"I get high - high - high - high\" (Every day) \"I get high - high - high - high\" (Every night) \"I get high - high - high - high\" (All the time) \"High-ighhhhhhh...\" Everyday I need an ounce and a half, S.P The only flower that you know, with a bounce and a half Listen kid, I need a mountain of cash so I could roll up Hop in the whip and like, bounce to the ave I get high cause I'm in the hood, the guns is around It take a blunt, just to ease the pain that humbled me now (whew) And I'd rather roll somethin' up; cause if I'm sober dog I just might flip, grab my guns and hold somethin' up I get high as a kite; I'm in the zone all alone Motherfucker case I'm dyin' tonight (it happen tonight) So I roll 'em up, back to back, fat as I could (uh-huh) You got beef with Styles P, I come to splatter the hood \"I get high - high - high - high\" (Every day) \"I get high - high - high - high\" (Every night) \"I get HIGH on your memory, HIGH on your memory\" (All the time) \"HIGH on your memory...\" (Every day) \"I get high - high - high - high\" (Every day) \"I get high - high - high - high\" (Every night) \"I get high - high - high - high\" (All the time) \"High-ighhhhhhh...\" Aiyyo I Smoke like a chim-in-ney {*inhaling*}, matter fact I Smoke like a gun, when a killer see his enemy I smoke like Bob Marley did; add to that That I smoke like the hippies did, back in the 70's Spit with the finishin' touch - get this, that I'ma finish you before I finish the dutch I get high like the birds and the planes, I get high when Bullets hit faces after words exchanged I get a rush, off the blood on the walls, you understand? Like the M-5 pedal when it's touchin' the floor I get high cause fuck it, what's better to do? And I'mma never give a fuck (that's right) cause I'm better than you \"I get high - high - high - high\" (Every day) \"I get high - high - high - high\" (Every night) \"I get HIGH on your memory, HIGH on your memory\" (All the time) \"HIGH on your memory...\" (Every day) \"I get high - high - high - high\" (Every day) \"I get high - high - high - high\" (Every night) \"I get high - high - high - high\" (All the time) \"High-ighhhhhhh...\" I'mma smoke till my lungs collapse; I'm from a era where Niggas cause terror over guns and crack Where a dollar bill is powerful; I smoke weed cause Time seem precious and I know what a hour do (I know dat) High for a livin', gots ta ride for a livin' With my real gangsta niggas that'll die for a livin' (die my niggas) Shit I get as high as I could; cause if you see things Like I see things, that I'mma die in the hood (right here) Motherfucker understand it's full service to you I don't smoke the weed if it ain't purple or blue And you could name any rapper, if you want he could die (anybody) This is S.P., dump it in you bitch, I get high \"I get high - high - high - high\" (Every day) \"I get high - high - high - high\" (Every night) \"I get HIGH on your memory, HIGH on your memory\" (All the time) \"HIGH on your memory...\" (Every day) \"I get high - high - high - high\" (I am the Ghost) \"I get high - high - high - high\" (Float with me) \"I get HIGH on your memory, HIGH on your memory I get HIGH on your memory\" (I get high like birds to planes) \"I get HIGH on your memory, HIGH on your memory\" I get HIGH on your memory\" (I get high like, smokin' dubs to the head) \"I get high - high - high - high\" \"High-ighhhhhhh...\"\n",
            "Body High by Paris Blohm\n",
            "https://open.spotify.com/track/3lJGbK6EnrCQ1MDKUSQ8Xt\n",
            "Open window Got my head up in the clouds I'm in limbo Like I'm six feet underground Blood's rushing, vertigo I don't know which way is home Feeling high and feeling low Oh oh, oh Come closer When I'm with you, I'm alive Slow motion I wanna feel the body high I can take it, feeling faded But without you I would die Come closer I wanna feel the body high High, high, high, high I wanna feel the body high High, high, high, high I wanna feel the body high Wanna feel the body high Wanna feel the body high Wanna feel the body high High, high, high, high I wanna feel the body high High, high, high, high I wanna feel the body high Broken hero Got my heart up in my mouth Frozen, zero Hit me up and thaw me out Blood's rushing, vertigo go I don't know which way is home Feeling high and feeling low Oh oh, oh Come closer When I'm with you, I'm alive Slow motion I wanna feel the body high I can take it, feeling faded But without you I would die Come closer I wanna feel the body high High, high, high, high I wanna feel the body high High, high, high, high I wanna feel the body high Wanna feel the body high Wanna feel the body high Wanna feel the body high High, high, high, high I wanna feel the body high High, high, high, high I wanna feel the body high\n",
            "Sober by Childish Gambino\n",
            "https://open.spotify.com/track/6olUplztLFFfU7fMYmFXOP\n",
            "NA And now that it's over, I'll never be sober I couldn't believe, but now I'm so high And now that it's over, I'll never be sober I couldn't believe, but now I'm so high But now I'm so high But now I'm so high But now I'm so high Girl, what's your problem Cause I know it's hard sometimes, baby just give it some time Oh honey now girl, we can solve them If you just give me some time I can open up your mind If you let it shine, you can free your mind Cause I know And now that it's over, I'll never be sober I couldn't believe, but now I'm so high And now that it's over, I'll never be sober I couldn't believe, but now I'm so high But now I'm so high But now I'm so high But now I'm so high Girl, if it's done right Well you know it's got to be, something wonderful to me Oh honey now girl, give it one night If you just give it a chance, loving you is not my plan Cause I know one day you'll see All the things that we can be No, no, no... And now that it's over, I'll never be sober(I want to be the only one) I couldn't believe, but now I'm so high And now that it's over, I'll never be sober I couldn't believe, but now I'm so high But now I'm so(But now I'm so high) (But now I'm so high) (But now I'm so high) (But now I'm so high) (But now I'm so high) (But now I'm so high) And now that it's over, I'll never be sober I couldn't believe, but now I'm so high But now I'm so high But now I'm so high But now I'm so high But now I'm so high But now I'm so high...\n",
            "High Note by GAWVI\n",
            "https://open.spotify.com/track/1GNILHmZkkjTUDXuDDKw24\n",
            "Hey yeah yeah, Hey yeah yeah yeah Hey yeah yeah, Hey yeah yeah yeah. (Ooh) Hey I've been on a high note (High note) Running on a scale so major Swerving on 'em nitro (Swerve) (Yeah) Swerving on 'em nitro (Ooh ooh) Hundreds of Out of the way (Yeah) Nothing hold me down low Cause, I've been on a high note Yeah, I've been on a high note It ain't no comin' down with you baby Ain't no comin' down with you baby Ain't no comin' down with you baby Ain't no comin' down Yeah, I've been on a high note (High note) I've been on a high note (High note) Hey yeah yeah, Hey yeah yeah yeah. (High note) Hey yeah yeah, Hey yeah yeah yeah. (High note) I've been on a high note Feeling so good, so good now Swerving on 'em nitro (Swerve) (Yeah) Swerving on 'em nitro (Ooh ooh) This is the part of the day, party today (Yeah) Ain't nothing hold me down low (Low) Cause, I've been on a high note (High note) Yeah, I've been on a high note It ain't no comin' down with you baby Ain't no comin' down with you baby Ain't no comin' down with you baby Ain't no comin' down Yeah, I've been on a high note (High note) I've been on a high note (High note) (Hey) (Ooh) High-High-High note High-High-High note High-High-High note High-High-High note (Ooh) High-High-High note High-High-High note (Hey yeah yeah,) High-High-High note (Hey yeah yeah yeah.) High-High-High note It ain't no comin' down High-High-High note With you baby High-High-High note Ain't no comin' down High-High-High note With you baby High-High-High note Ain't no comin' down High-High-High note With you baby High-High-High note Ain't no comin' down High-High-High note High-High-High note Hey yeah yeah, Hey yeah yeah yeah. (High note) Hey yeah yeah, Hey yeah yeah yeah. (High note) (Ooh) High-High-High note High-High-High note High-High-High note High-High-High note (High note) (Ooh) High-High-High note High-High-High note (Hey yeah yeah,) High-High-High note (Hey yeah yeah yeah.) High-High-High note (High note)\n",
            "High Hopes by Panic! At The Disco\n",
            "https://open.spotify.com/track/1rqqCSm0Qe4I9rUvWncaom\n",
            "High, high hopes Had to have high, high hopes for a living Shooting for the stars when I couldn't make a killing Didn't have a dime but I always had a vision Always had high, high hopes (High, high hopes) Had to have high, high hopes for a living Didn't know how but I always had a feeling I was gonna be that one in a million Always had high, high hopes Mama said, fulfill the prophecy Be something greater, go make a legacy Manifest destiny, back in the days We wanted everything, wanted everything Mama said, burn your biographies Rewrite your history, light up your wildest dreams Museum victories, every day We wanted everything, wanted everything Mama said don't give up, it's a little complicated All tied up, no more love and I'd hate to see you waiting Had to have high, high hopes for a living Shooting for the stars when I couldn't make a killing Didn't have a dime but I always had a vision Always had high, high hopes Had to have high, high hopes for a living Didn't know how but I always had a feeling I was gonna be that one in a million Always had high, high hopes (High, high hopes) Mama said, it's uphill for oddities The stranger crusaders, ain't ever wannabes The weird and the novelties don't ever change We wanted everything, wanted everything (High, high hopes) Stay up on that rise Stay up on that rise and never come down, oh Stay up on that rise Stay up on that rise and never come down Mama said don't give up, it's a little complicated All tied up, no more love and I'd hate to see you waiting They say it's all been done but they haven't seen the best of me-eh-eh-eh So I got one more run and it's gonna be a sight to see-eh-eh-eh Had to have high, high hopes for a living Shooting for the stars when I couldn't make a killing Didn't have a dime but I always had a vision Always had high, high hopes (High, high hopes) Had to have high, high hopes for a living Didn't know how but I always had a feeling I was gonna be that one in a million Always had high, high hopes (High, high hopes) Had to have high, high hopes for a living Shooting for the stars when I couldn't make a killing Didn't have a dime but I always had a vision Always had high, high hopes Had to have high, high hopes for a living Didn't know how but I always had a feeling I was gonna be that one in a million Always had high, high hopes (High, high hopes) High, high hopes Had to have high, high hopes for a living Shooting for the stars when I couldn't make a killing Didn't have a dime but I always had a vision Always had high, high hopes (High, high hopes) Had to have high, high hopes for a living Didn't know how but I always had a feeling I was gonna be that one in a million Always had high, high hopes Mama said, fulfill the prophecy Be something greater, go make a legacy Manifest destiny, back in the days We wanted everything, wanted everything Mama said, burn your biographies Rewrite your history, light up your wildest dreams Museum victories, every day We wanted everything, wanted everything Mama said don't give up, it's a little complicated All tied up, no more love and I'd hate to see you waiting Had to have high, high hopes for a living Shooting for the stars when I couldn't make a killing Didn't have a dime but I always had a vision Always had high, high hopes Had to have high, high hopes for a living Didn't know how but I always had a feeling I was gonna be that one in a million Always had high, high hopes (High, high hopes) Mama said, it's uphill for oddities The stranger crusaders, ain't ever wannabes The weird and the novelties don't ever change We wanted everything, wanted everything (High, high hopes) Stay up on that rise Stay up on that rise and never come down, oh Stay up on that rise Stay up on that rise and never come down Mama said don't give up, it's a little complicated All tied up, no more love and I'd hate to see you waiting They say it's all been done but they haven't seen the best of me-eh-eh-eh So I got one more run and it's gonna be a sight to see-eh-eh-eh Had to have high, high hopes for a living Shooting for the stars when I couldn't make a killing Didn't have a dime but I always had a vision Always had high, high hopes (High, high hopes) Had to have high, high hopes for a living Didn't know how but I always had a feeling I was gonna be that one in a million Always had high, high hopes (High, high hopes) Had to have high, high hopes for a living Shooting for the stars when I couldn't make a killing Didn't have a dime but I always had a vision Always had high, high hopes Had to have high, high hopes for a living Didn't know how but I always had a feeling I was gonna be that one in a million Always had high, high hopes (High, high hopes) High, high hopes Had to have high, high hopes for a living Shooting for the stars when I couldn't make a killing Didn't have a dime but I always had a vision Always had high, high hopes (High, high hopes) Had to have high, high hopes for a living Didn't know how but I always had a feeling I was gonna be that one in a million Always had high, high hopes Mama said, fulfill the prophecy Be something greater, go make a legacy Manifest destiny, back in the days We wanted everything, wanted everything Mama said, burn your biographies Rewrite your history, light up your wildest dreams Museum victories, every day We wanted everything, wanted everything Mama said don't give up, it's a little complicated All tied up, no more love and I'd hate to see you waiting Had to have high, high hopes for a living Shooting for the stars when I couldn't make a killing Didn't have a dime but I always had a vision Always had high, high hopes Had to have high, high hopes for a living Didn't know how but I always had a feeling I was gonna be that one in a million Always had high, high hopes (High, high hopes) Mama said, it's uphill for oddities The stranger crusaders, ain't ever wannabes The weird and the novelties don't ever change We wanted everything, wanted everything (High, high hopes) Stay up on that rise Stay up on that rise and never come down, oh Stay up on that rise Stay up on that rise and never come down Mama said don't give up, it's a little complicated All tied up, no more love and I'd hate to see you waiting They say it's all been done but they haven't seen the best of me-eh-eh-eh So I got one more run and it's gonna be a sight to see-eh-eh-eh Had to have high, high hopes for a living Shooting for the stars when I couldn't make a killing Didn't have a dime but I always had a vision Always had high, high hopes (High, high hopes) Had to have high, high hopes for a living Didn't know how but I always had a feeling I was gonna be that one in a million Always had high, high hopes (High, high hopes) Had to have high, high hopes for a living Shooting for the stars when I couldn't make a killing Didn't have a dime but I always had a vision Always had high, high hopes Had to have high, high hopes for a living Didn't know how but I always had a feeling I was gonna be that one in a million Always had high, high hopes (High, high hopes)\n"
          ]
        }
      ],
      "metadata": {}
    },
    {
      "cell_type": "code",
      "execution_count": null,
      "source": [],
      "outputs": [],
      "metadata": {}
    }
  ]
}