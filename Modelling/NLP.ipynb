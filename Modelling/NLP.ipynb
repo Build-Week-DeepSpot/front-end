{
  "nbformat": 4,
  "nbformat_minor": 2,
  "metadata": {
    "colab": {
      "name": "413_follow_along.ipynb",
      "provenance": [],
      "collapsed_sections": []
    },
    "kernelspec": {
      "name": "python3",
      "display_name": "Python 3.7.0 64-bit ('U4-S2-NN': conda)"
    },
    "language_info": {
      "name": "python",
      "version": "3.7.0",
      "mimetype": "text/x-python",
      "codemirror_mode": {
        "name": "ipython",
        "version": 3
      },
      "pygments_lexer": "ipython3",
      "nbconvert_exporter": "python",
      "file_extension": ".py"
    },
    "interpreter": {
      "hash": "02e1903c3f39b96bcefa6d49f9b3f85f880bb59f74a50c875b853cacbce3839e"
    }
  },
  "cells": [
    {
      "cell_type": "code",
      "execution_count": 27,
      "source": [
        "import pandas as pd\n",
        "import re\n",
        "from sklearn.feature_extraction.text import TfidfVectorizer\n",
        "from collections import Counter\n",
        "from sklearn.neighbors import NearestNeighbors\n",
        "# from joblib import dump, load\n",
        "\n",
        "import tensorflow as tf\n",
        "import numpy as np\n",
        "from tensorflow.keras.layers import Input, Dense, Dropout\n",
        "from tensorflow.keras.models import Model\n",
        "from tensorflow.keras.callbacks import EarlyStopping"
      ],
      "outputs": [],
      "metadata": {}
    },
    {
      "cell_type": "code",
      "execution_count": 3,
      "source": [
        "# Load data\n",
        "file = '../../data/spotify_songs.csv'\n",
        "df = pd.read_csv(file)\n",
        "df.shape"
      ],
      "outputs": [
        {
          "output_type": "execute_result",
          "data": {
            "text/plain": [
              "(18454, 25)"
            ]
          },
          "metadata": {},
          "execution_count": 3
        }
      ],
      "metadata": {}
    },
    {
      "cell_type": "code",
      "execution_count": 4,
      "source": [
        "# Get only English songs\n",
        "songs = df[df.language == 'en']\n",
        "songs.shape"
      ],
      "outputs": [
        {
          "output_type": "execute_result",
          "data": {
            "text/plain": [
              "(15405, 25)"
            ]
          },
          "metadata": {},
          "execution_count": 4
        }
      ],
      "metadata": {}
    },
    {
      "cell_type": "code",
      "execution_count": 5,
      "source": [
        "# Check for null values\n",
        "songs.isnull().sum().sum() == 0"
      ],
      "outputs": [
        {
          "output_type": "execute_result",
          "data": {
            "text/plain": [
              "True"
            ]
          },
          "metadata": {},
          "execution_count": 5
        }
      ],
      "metadata": {}
    },
    {
      "cell_type": "code",
      "execution_count": 6,
      "source": [
        "def clean_data(data):\n",
        "    # Remove non-alphanumeric characters\n",
        "    data = data.apply(lambda x: re.sub('[^a-zA-Z]', ' ', x))\n",
        "\n",
        "    # Remove extra whitespace and lowercase text \n",
        "    data = data.apply(lambda x: ' '.join(x.lower().split()))\n",
        "\n",
        "    # Remove short words\n",
        "    data = data.apply(lambda x: ' '.join(x for x in x.split() if len(x) > 2))\n",
        "    \n",
        "    # Stop words will be removed in vectorizer\n",
        "    return data"
      ],
      "outputs": [],
      "metadata": {}
    },
    {
      "cell_type": "code",
      "execution_count": 7,
      "source": [
        "# Add cleaned lyrics to df\n",
        "songs['clean_lyrics'] = clean_data(songs['lyrics'])\n",
        "songs.clean_lyrics.head()"
      ],
      "outputs": [
        {
          "output_type": "stream",
          "name": "stderr",
          "text": [
            "/Users/Carl/miniconda3/envs/U4-S2-NN/lib/python3.7/site-packages/ipykernel_launcher.py:2: SettingWithCopyWarning: \n",
            "A value is trying to be set on a copy of a slice from a DataFrame.\n",
            "Try using .loc[row_indexer,col_indexer] = value instead\n",
            "\n",
            "See the caveats in the documentation: https://pandas.pydata.org/pandas-docs/stable/user_guide/indexing.html#returning-a-view-versus-a-copy\n",
            "  \n"
          ]
        },
        {
          "output_type": "execute_result",
          "data": {
            "text/plain": [
              "1    the trees are singing the wind the sky blue on...\n",
              "2    yeah spyderman and freeze full effect huh you ...\n",
              "3    really can stay baby cold outside got away bab...\n",
              "4    get out business you don keep from turning wit...\n",
              "5    hold your breath don look down keep trying dar...\n",
              "Name: clean_lyrics, dtype: object"
            ]
          },
          "metadata": {},
          "execution_count": 7
        }
      ],
      "metadata": {}
    },
    {
      "cell_type": "code",
      "execution_count": 8,
      "source": [
        "# Tokenizer function\n",
        "def tokenizer(song):\n",
        "    # Create a list of tokens\n",
        "    tokens = []\n",
        "    # Split song into words\n",
        "    words = song.split()\n",
        "    # Iterate through the words in the song\n",
        "    for word in words:\n",
        "        tokens.append(word)\n",
        "          \n",
        "    return tokens"
      ],
      "outputs": [],
      "metadata": {}
    },
    {
      "cell_type": "code",
      "execution_count": 9,
      "source": [
        "# Tokenize clean lyrics\n",
        "songs['tokens'] = songs.clean_lyrics.apply(tokenizer)\n",
        "songs['tokens'].head()"
      ],
      "outputs": [
        {
          "output_type": "stream",
          "name": "stderr",
          "text": [
            "/Users/Carl/miniconda3/envs/U4-S2-NN/lib/python3.7/site-packages/ipykernel_launcher.py:2: SettingWithCopyWarning: \n",
            "A value is trying to be set on a copy of a slice from a DataFrame.\n",
            "Try using .loc[row_indexer,col_indexer] = value instead\n",
            "\n",
            "See the caveats in the documentation: https://pandas.pydata.org/pandas-docs/stable/user_guide/indexing.html#returning-a-view-versus-a-copy\n",
            "  \n"
          ]
        },
        {
          "output_type": "execute_result",
          "data": {
            "text/plain": [
              "1    [the, trees, are, singing, the, wind, the, sky...\n",
              "2    [yeah, spyderman, and, freeze, full, effect, h...\n",
              "3    [really, can, stay, baby, cold, outside, got, ...\n",
              "4    [get, out, business, you, don, keep, from, tur...\n",
              "5    [hold, your, breath, don, look, down, keep, tr...\n",
              "Name: tokens, dtype: object"
            ]
          },
          "metadata": {},
          "execution_count": 9
        }
      ],
      "metadata": {}
    },
    {
      "cell_type": "code",
      "execution_count": 10,
      "source": [
        "def count(tokens):\n",
        "    \"\"\"\n",
        "    Calculates some basic statistics about tokens in our corpus (i.e. corpus means collections text data)\n",
        "    \"\"\"\n",
        "    # stores the count of each token\n",
        "    word_counts = Counter()\n",
        "    \n",
        "    # stores the number of docs that each token appears in \n",
        "    appears_in = Counter()\n",
        "\n",
        "    total_docs = len(tokens)\n",
        "\n",
        "    for token in tokens:\n",
        "        # stores count of every appearance of a token \n",
        "        word_counts.update(token)\n",
        "        # use set() in order to not count duplicates, thereby count the num of docs that each token appears in\n",
        "        appears_in.update(set(token))\n",
        "\n",
        "    # build word count dataframe\n",
        "    temp = zip(word_counts.keys(), word_counts.values())\n",
        "    wc = pd.DataFrame(temp, columns = ['word', 'count'])\n",
        "\n",
        "    # rank the the word counts\n",
        "    wc['rank'] = wc['count'].rank(method='first', ascending=False)\n",
        "    total = wc['count'].sum()\n",
        "\n",
        "    # calculate the percent total of each token\n",
        "    wc['pct_total'] = wc['count'].apply(lambda token_count: token_count / total)\n",
        "\n",
        "    # calculate the cumulative percent total of word counts \n",
        "    wc = wc.sort_values(by='rank')\n",
        "    wc['cul_pct_total'] = wc['pct_total'].cumsum()\n",
        "\n",
        "    # create dataframe for document stats\n",
        "    t2 = zip(appears_in.keys(), appears_in.values())\n",
        "    ac = pd.DataFrame(t2, columns=['word', 'appears_in'])\n",
        "    \n",
        "    # merge word count stats with doc stats\n",
        "    wc = ac.merge(wc, on='word')\n",
        "\n",
        "    wc['appears_in_pct'] = wc['appears_in'].apply(lambda x: x / total_docs)\n",
        "\n",
        "    return wc.sort_values(by='rank')"
      ],
      "outputs": [],
      "metadata": {}
    },
    {
      "cell_type": "code",
      "execution_count": 11,
      "source": [
        "wc  = count(songs['tokens'])\n",
        "wc.head()"
      ],
      "outputs": [
        {
          "output_type": "execute_result",
          "data": {
            "text/plain": [
              "    word  appears_in   count  rank  pct_total  cul_pct_total  appears_in_pct\n",
              "43   you       14166  278601   1.0   0.057869       0.057869        0.919572\n",
              "21   the       14535  222028   2.0   0.046118       0.103988        0.943525\n",
              "34   and       13634  119728   3.0   0.024869       0.128857        0.885037\n",
              "28  that       11362   73654   4.0   0.015299       0.144156        0.737553\n",
              "13  your       10233   58122   5.0   0.012073       0.156229        0.664265"
            ],
            "text/html": [
              "<div>\n",
              "<style scoped>\n",
              "    .dataframe tbody tr th:only-of-type {\n",
              "        vertical-align: middle;\n",
              "    }\n",
              "\n",
              "    .dataframe tbody tr th {\n",
              "        vertical-align: top;\n",
              "    }\n",
              "\n",
              "    .dataframe thead th {\n",
              "        text-align: right;\n",
              "    }\n",
              "</style>\n",
              "<table border=\"1\" class=\"dataframe\">\n",
              "  <thead>\n",
              "    <tr style=\"text-align: right;\">\n",
              "      <th></th>\n",
              "      <th>word</th>\n",
              "      <th>appears_in</th>\n",
              "      <th>count</th>\n",
              "      <th>rank</th>\n",
              "      <th>pct_total</th>\n",
              "      <th>cul_pct_total</th>\n",
              "      <th>appears_in_pct</th>\n",
              "    </tr>\n",
              "  </thead>\n",
              "  <tbody>\n",
              "    <tr>\n",
              "      <th>43</th>\n",
              "      <td>you</td>\n",
              "      <td>14166</td>\n",
              "      <td>278601</td>\n",
              "      <td>1.0</td>\n",
              "      <td>0.057869</td>\n",
              "      <td>0.057869</td>\n",
              "      <td>0.919572</td>\n",
              "    </tr>\n",
              "    <tr>\n",
              "      <th>21</th>\n",
              "      <td>the</td>\n",
              "      <td>14535</td>\n",
              "      <td>222028</td>\n",
              "      <td>2.0</td>\n",
              "      <td>0.046118</td>\n",
              "      <td>0.103988</td>\n",
              "      <td>0.943525</td>\n",
              "    </tr>\n",
              "    <tr>\n",
              "      <th>34</th>\n",
              "      <td>and</td>\n",
              "      <td>13634</td>\n",
              "      <td>119728</td>\n",
              "      <td>3.0</td>\n",
              "      <td>0.024869</td>\n",
              "      <td>0.128857</td>\n",
              "      <td>0.885037</td>\n",
              "    </tr>\n",
              "    <tr>\n",
              "      <th>28</th>\n",
              "      <td>that</td>\n",
              "      <td>11362</td>\n",
              "      <td>73654</td>\n",
              "      <td>4.0</td>\n",
              "      <td>0.015299</td>\n",
              "      <td>0.144156</td>\n",
              "      <td>0.737553</td>\n",
              "    </tr>\n",
              "    <tr>\n",
              "      <th>13</th>\n",
              "      <td>your</td>\n",
              "      <td>10233</td>\n",
              "      <td>58122</td>\n",
              "      <td>5.0</td>\n",
              "      <td>0.012073</td>\n",
              "      <td>0.156229</td>\n",
              "      <td>0.664265</td>\n",
              "    </tr>\n",
              "  </tbody>\n",
              "</table>\n",
              "</div>"
            ]
          },
          "metadata": {},
          "execution_count": 11
        }
      ],
      "metadata": {}
    },
    {
      "cell_type": "code",
      "execution_count": 12,
      "source": [
        "# TFIDF vectorizer\n",
        "tfidf = TfidfVectorizer(\n",
        "    stop_words='english', ngram_range=(1,2),\n",
        "    min_df=5, max_df=0.2,\n",
        "    max_features=1000,\n",
        "    tokenizer=tokenizer)\n",
        "\n",
        "# Create a vocabulary and get word counts per document\n",
        "dtm = tfidf.fit_transform(songs.clean_lyrics)\n",
        "dtm = pd.DataFrame(data=dtm.toarray(), columns=tfidf.get_feature_names())\n",
        "print(dtm.shape)\n",
        "dtm.head()"
      ],
      "outputs": [
        {
          "output_type": "stream",
          "name": "stdout",
          "text": [
            "(15405, 1000)\n"
          ]
        },
        {
          "output_type": "execute_result",
          "data": {
            "text/plain": [
              "   act  act like  actin  afraid  ahead  ahh  ain gonna  ain got  air  \\\n",
              "0  0.0       0.0    0.0     0.0    0.0  0.0        0.0      0.0  0.0   \n",
              "1  0.0       0.0    0.0     0.0    0.0  0.0        0.0      0.0  0.0   \n",
              "2  0.0       0.0    0.0     0.0    0.0  0.0        0.0      0.0  0.0   \n",
              "3  0.0       0.0    0.0     0.0    0.0  0.0        0.0      0.0  0.0   \n",
              "4  0.0       0.0    0.0     0.0    0.0  0.0        0.0      0.0  0.0   \n",
              "\n",
              "      alive  ...  yeah know  yeah love  yeah ooh  yeah yeah  year  years  yes  \\\n",
              "0  0.399813  ...   0.000000        0.0       0.0   0.000000   0.0    0.0  0.0   \n",
              "1  0.000000  ...   0.000000        0.0       0.0   0.000000   0.0    0.0  0.0   \n",
              "2  0.000000  ...   0.000000        0.0       0.0   0.000000   0.0    0.0  0.0   \n",
              "3  0.000000  ...   0.000000        0.0       0.0   0.000000   0.0    0.0  0.0   \n",
              "4  0.000000  ...   0.104242        0.0       0.0   0.223496   0.0    0.0  0.0   \n",
              "\n",
              "   yesterday  young  yuh  \n",
              "0        0.0    0.0  0.0  \n",
              "1        0.0    0.0  0.0  \n",
              "2        0.0    0.0  0.0  \n",
              "3        0.0    0.0  0.0  \n",
              "4        0.0    0.0  0.0  \n",
              "\n",
              "[5 rows x 1000 columns]"
            ],
            "text/html": [
              "<div>\n",
              "<style scoped>\n",
              "    .dataframe tbody tr th:only-of-type {\n",
              "        vertical-align: middle;\n",
              "    }\n",
              "\n",
              "    .dataframe tbody tr th {\n",
              "        vertical-align: top;\n",
              "    }\n",
              "\n",
              "    .dataframe thead th {\n",
              "        text-align: right;\n",
              "    }\n",
              "</style>\n",
              "<table border=\"1\" class=\"dataframe\">\n",
              "  <thead>\n",
              "    <tr style=\"text-align: right;\">\n",
              "      <th></th>\n",
              "      <th>act</th>\n",
              "      <th>act like</th>\n",
              "      <th>actin</th>\n",
              "      <th>afraid</th>\n",
              "      <th>ahead</th>\n",
              "      <th>ahh</th>\n",
              "      <th>ain gonna</th>\n",
              "      <th>ain got</th>\n",
              "      <th>air</th>\n",
              "      <th>alive</th>\n",
              "      <th>...</th>\n",
              "      <th>yeah know</th>\n",
              "      <th>yeah love</th>\n",
              "      <th>yeah ooh</th>\n",
              "      <th>yeah yeah</th>\n",
              "      <th>year</th>\n",
              "      <th>years</th>\n",
              "      <th>yes</th>\n",
              "      <th>yesterday</th>\n",
              "      <th>young</th>\n",
              "      <th>yuh</th>\n",
              "    </tr>\n",
              "  </thead>\n",
              "  <tbody>\n",
              "    <tr>\n",
              "      <th>0</th>\n",
              "      <td>0.0</td>\n",
              "      <td>0.0</td>\n",
              "      <td>0.0</td>\n",
              "      <td>0.0</td>\n",
              "      <td>0.0</td>\n",
              "      <td>0.0</td>\n",
              "      <td>0.0</td>\n",
              "      <td>0.0</td>\n",
              "      <td>0.0</td>\n",
              "      <td>0.399813</td>\n",
              "      <td>...</td>\n",
              "      <td>0.000000</td>\n",
              "      <td>0.0</td>\n",
              "      <td>0.0</td>\n",
              "      <td>0.000000</td>\n",
              "      <td>0.0</td>\n",
              "      <td>0.0</td>\n",
              "      <td>0.0</td>\n",
              "      <td>0.0</td>\n",
              "      <td>0.0</td>\n",
              "      <td>0.0</td>\n",
              "    </tr>\n",
              "    <tr>\n",
              "      <th>1</th>\n",
              "      <td>0.0</td>\n",
              "      <td>0.0</td>\n",
              "      <td>0.0</td>\n",
              "      <td>0.0</td>\n",
              "      <td>0.0</td>\n",
              "      <td>0.0</td>\n",
              "      <td>0.0</td>\n",
              "      <td>0.0</td>\n",
              "      <td>0.0</td>\n",
              "      <td>0.000000</td>\n",
              "      <td>...</td>\n",
              "      <td>0.000000</td>\n",
              "      <td>0.0</td>\n",
              "      <td>0.0</td>\n",
              "      <td>0.000000</td>\n",
              "      <td>0.0</td>\n",
              "      <td>0.0</td>\n",
              "      <td>0.0</td>\n",
              "      <td>0.0</td>\n",
              "      <td>0.0</td>\n",
              "      <td>0.0</td>\n",
              "    </tr>\n",
              "    <tr>\n",
              "      <th>2</th>\n",
              "      <td>0.0</td>\n",
              "      <td>0.0</td>\n",
              "      <td>0.0</td>\n",
              "      <td>0.0</td>\n",
              "      <td>0.0</td>\n",
              "      <td>0.0</td>\n",
              "      <td>0.0</td>\n",
              "      <td>0.0</td>\n",
              "      <td>0.0</td>\n",
              "      <td>0.000000</td>\n",
              "      <td>...</td>\n",
              "      <td>0.000000</td>\n",
              "      <td>0.0</td>\n",
              "      <td>0.0</td>\n",
              "      <td>0.000000</td>\n",
              "      <td>0.0</td>\n",
              "      <td>0.0</td>\n",
              "      <td>0.0</td>\n",
              "      <td>0.0</td>\n",
              "      <td>0.0</td>\n",
              "      <td>0.0</td>\n",
              "    </tr>\n",
              "    <tr>\n",
              "      <th>3</th>\n",
              "      <td>0.0</td>\n",
              "      <td>0.0</td>\n",
              "      <td>0.0</td>\n",
              "      <td>0.0</td>\n",
              "      <td>0.0</td>\n",
              "      <td>0.0</td>\n",
              "      <td>0.0</td>\n",
              "      <td>0.0</td>\n",
              "      <td>0.0</td>\n",
              "      <td>0.000000</td>\n",
              "      <td>...</td>\n",
              "      <td>0.000000</td>\n",
              "      <td>0.0</td>\n",
              "      <td>0.0</td>\n",
              "      <td>0.000000</td>\n",
              "      <td>0.0</td>\n",
              "      <td>0.0</td>\n",
              "      <td>0.0</td>\n",
              "      <td>0.0</td>\n",
              "      <td>0.0</td>\n",
              "      <td>0.0</td>\n",
              "    </tr>\n",
              "    <tr>\n",
              "      <th>4</th>\n",
              "      <td>0.0</td>\n",
              "      <td>0.0</td>\n",
              "      <td>0.0</td>\n",
              "      <td>0.0</td>\n",
              "      <td>0.0</td>\n",
              "      <td>0.0</td>\n",
              "      <td>0.0</td>\n",
              "      <td>0.0</td>\n",
              "      <td>0.0</td>\n",
              "      <td>0.000000</td>\n",
              "      <td>...</td>\n",
              "      <td>0.104242</td>\n",
              "      <td>0.0</td>\n",
              "      <td>0.0</td>\n",
              "      <td>0.223496</td>\n",
              "      <td>0.0</td>\n",
              "      <td>0.0</td>\n",
              "      <td>0.0</td>\n",
              "      <td>0.0</td>\n",
              "      <td>0.0</td>\n",
              "      <td>0.0</td>\n",
              "    </tr>\n",
              "  </tbody>\n",
              "</table>\n",
              "<p>5 rows × 1000 columns</p>\n",
              "</div>"
            ]
          },
          "metadata": {},
          "execution_count": 12
        }
      ],
      "metadata": {}
    },
    {
      "cell_type": "code",
      "execution_count": 14,
      "source": [
        "# Nearest neighbors model \n",
        "nn = NearestNeighbors(n_neighbors=6, algorithm=\"kd_tree\")\n",
        "\n",
        "# Fit on DTM\n",
        "nn.fit(dtm)"
      ],
      "outputs": [
        {
          "output_type": "execute_result",
          "data": {
            "text/plain": [
              "NearestNeighbors(algorithm='kd_tree', n_neighbors=6)"
            ]
          },
          "metadata": {},
          "execution_count": 14
        }
      ],
      "metadata": {}
    },
    {
      "cell_type": "code",
      "execution_count": 15,
      "source": [
        "# sample a doc from dtm to use as our query point \n",
        "n = 4795\n",
        "doc_vector = [dtm.iloc[n]]\n",
        "\n",
        "# Query Using kneighbors \n",
        "neigh_dist, neigh_ind = nn.kneighbors(doc_vector)"
      ],
      "outputs": [],
      "metadata": {}
    },
    {
      "cell_type": "code",
      "execution_count": null,
      "source": [
        "# Display test song and nearest neighbors\n",
        "print('Test song:', songs.iloc[n]['track_name'])\n",
        "print(f'https://open.spotify.com/track/{songs.iloc[n].track_id}')\n",
        "print(songs.iloc[n]['lyrics'])\n",
        "print('\\nPredictions:')\n",
        "\n",
        "for i in range(6):\n",
        "    ind = neigh_ind[0][i]\n",
        "    if ind != n:\n",
        "        track_name = songs.iloc[ind]['track_name']\n",
        "        artist = songs.iloc[ind]['track_artist']\n",
        "        lyrics = songs.iloc[ind]['lyrics']\n",
        "        print(f'{track_name} by {artist}')\n",
        "        print(f'https://open.spotify.com/track/{songs.iloc[ind].track_id}')\n",
        "        print(lyrics, '\\n')\n",
        "    # print('\\n')"
      ],
      "outputs": [],
      "metadata": {}
    },
    {
      "cell_type": "code",
      "execution_count": null,
      "source": [],
      "outputs": [],
      "metadata": {}
    },
    {
      "cell_type": "code",
      "execution_count": 16,
      "source": [
        "dtm.shape"
      ],
      "outputs": [
        {
          "output_type": "execute_result",
          "data": {
            "text/plain": [
              "(15405, 1000)"
            ]
          },
          "metadata": {},
          "execution_count": 16
        }
      ],
      "metadata": {}
    },
    {
      "cell_type": "code",
      "execution_count": 32,
      "source": [
        "# Autoencoder\n",
        "\n",
        "encoded_dim = 32\n",
        "layer_1 = 64\n",
        "layer_2 = 128\n",
        "\n",
        "input_doc = Input(shape = (dtm.shape[1], ))\n",
        "\n",
        "x = Dense(layer_1, activation = 'relu')(input_doc)\n",
        "x = Dropout(0.25)(x)\n",
        "x = Dense(layer_2, activation = 'relu')(x)\n",
        "encoded = Dense(encoded_dim, activation = 'relu')(x)\n",
        "x = Dense(layer_2, activation='sigmoid')(encoded)\n",
        "x = Dense(layer_1, activation = 'relu')(x)\n",
        "x = Dropout(0.25)(x)\n",
        "decoded = Dense(dtm.shape[1], activation='sigmoid')(x)\n",
        "\n",
        "autoencoder = Model(input_doc, decoded)\n",
        "\n",
        "encoder = Model(input_doc, encoded)\n",
        "\n",
        "autoencoder.compile(optimizer='nadam', loss='mean_squared_error', metrics=['accuracy'])"
      ],
      "outputs": [],
      "metadata": {}
    },
    {
      "cell_type": "code",
      "execution_count": 31,
      "source": [
        "autoencoder.summary()"
      ],
      "outputs": [
        {
          "output_type": "stream",
          "name": "stdout",
          "text": [
            "Model: \"model_8\"\n",
            "_________________________________________________________________\n",
            "Layer (type)                 Output Shape              Param #   \n",
            "=================================================================\n",
            "input_5 (InputLayer)         [(None, 1000)]            0         \n",
            "_________________________________________________________________\n",
            "dense_16 (Dense)             (None, 64)                64064     \n",
            "_________________________________________________________________\n",
            "dropout_1 (Dropout)          (None, 64)                0         \n",
            "_________________________________________________________________\n",
            "dense_17 (Dense)             (None, 128)               8320      \n",
            "_________________________________________________________________\n",
            "dense_18 (Dense)             (None, 32)                4128      \n",
            "_________________________________________________________________\n",
            "dense_19 (Dense)             (None, 128)               4224      \n",
            "_________________________________________________________________\n",
            "dropout_2 (Dropout)          (None, 128)               0         \n",
            "_________________________________________________________________\n",
            "dense_20 (Dense)             (None, 64)                8256      \n",
            "_________________________________________________________________\n",
            "dense_21 (Dense)             (None, 1000)              65000     \n",
            "=================================================================\n",
            "Total params: 153,992\n",
            "Trainable params: 153,992\n",
            "Non-trainable params: 0\n",
            "_________________________________________________________________\n"
          ]
        }
      ],
      "metadata": {}
    },
    {
      "cell_type": "code",
      "execution_count": 29,
      "source": [
        "stop = EarlyStopping(monitor='val_loss', min_delta=0.001, patience=3)\n",
        "\n",
        "autoencoder.fit(dtm, # input image to encoder\n",
        "                dtm, # provide input image to decoder so the model learns how to reconstruct the input image \n",
        "                batch_size=32,\n",
        "                epochs=100,\n",
        "                validation_split=.2,\n",
        "                callbacks=[stop])"
      ],
      "outputs": [
        {
          "output_type": "stream",
          "name": "stdout",
          "text": [
            "WARNING:tensorflow:Falling back from v2 loop because of error: Failed to find data adapter that can handle input: <class 'pandas.core.frame.DataFrame'>, <class 'NoneType'>\n",
            "Train on 12324 samples, validate on 3081 samples\n",
            "Epoch 1/100\n",
            "12324/12324 [==============================] - 4s 343us/sample - loss: 0.0173 - accuracy: 0.0023 - val_loss: 0.0013 - val_accuracy: 0.0045\n",
            "Epoch 2/100\n",
            "12324/12324 [==============================] - 3s 271us/sample - loss: 0.0011 - accuracy: 0.0071 - val_loss: 0.0011 - val_accuracy: 0.0081\n",
            "Epoch 3/100\n",
            "12324/12324 [==============================] - 4s 288us/sample - loss: 0.0010 - accuracy: 0.0066 - val_loss: 0.0010 - val_accuracy: 0.0081\n",
            "Epoch 4/100\n",
            "12324/12324 [==============================] - 3s 277us/sample - loss: 0.0010 - accuracy: 0.0079 - val_loss: 9.9213e-04 - val_accuracy: 0.0039\n"
          ]
        },
        {
          "output_type": "execute_result",
          "data": {
            "text/plain": [
              "<tensorflow.python.keras.callbacks.History at 0x7fb095148e48>"
            ]
          },
          "metadata": {},
          "execution_count": 29
        }
      ],
      "metadata": {}
    },
    {
      "cell_type": "code",
      "execution_count": null,
      "source": [],
      "outputs": [],
      "metadata": {}
    }
  ]
}